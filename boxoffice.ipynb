{
 "cells": [
  {
   "cell_type": "code",
   "execution_count": 1,
   "metadata": {},
   "outputs": [],
   "source": [
    "import requests\n",
    "import lxml.html as lh\n",
    "import pandas as pd\n",
    "import numpy as np\n",
    "from sklearn.tree import DecisionTreeClassifier\n",
    "from sklearn.ensemble import RandomForestClassifier\n",
    "from sklearn.model_selection import train_test_split\n",
    "from sklearn.metrics import accuracy_score\n",
    "from sklearn.impute import SimpleImputer"
   ]
  },
  {
   "cell_type": "code",
   "execution_count": 2,
   "metadata": {},
   "outputs": [],
   "source": [
    "movies =[]\n",
    "url=['https://www.boxofficemojo.com/yearly/chart/?page=1&view=releasedate&view2=domestic&yr=2018&p=.htm',\n",
    "     'https://www.boxofficemojo.com/yearly/chart/?page=2&view=releasedate&view2=domestic&yr=2018&p=.htm'\n",
    "    ]\n",
    "\n",
    "for i in range(2): \n",
    "    page = requests.get(url[i])\n",
    "    doc = lh.fromstring(page.content)\n",
    "    tr_elements = doc.xpath('//tr')\n",
    "    tr_elements = tr_elements[9:109]\n",
    "    mov = []\n",
    "    for xd in range(len(tr_elements)):\n",
    "        for a in tr_elements[xd]:      \n",
    "            try:\n",
    "                mov.append(int(a.text_content()))\n",
    "            except:\n",
    "                mov.append(a.text_content())\n",
    "                pass\n",
    "            try:\n",
    "                url_mov = a.getchildren()[0].getchildren()[0].getchildren()[0].attrib['href'] #XD\n",
    "                page2 = requests.get('https://www.boxofficemojo.com'+url_mov)\n",
    "                doc2 = lh.fromstring(page2.content)\n",
    "                tr_elements2 = doc2.xpath('//tr')\n",
    "                mov.append(tr_elements2[7].getchildren()[0].getchildren()[0].text_content()) #distributor full name\n",
    "                mov.append(tr_elements2[7].getchildren()[1].getchildren()[0].text_content()) #release date\n",
    "                mov.append(tr_elements2[8].getchildren()[0].getchildren()[0].text_content()) # genre\n",
    "                mov.append(tr_elements2[8].getchildren()[1].getchildren()[0].text_content()) #runtime\n",
    "                mov.append(tr_elements2[9].getchildren()[0].getchildren()[0].text_content()) #rating\n",
    "                mov.append(tr_elements2[9].getchildren()[1].getchildren()[0].text_content()) #budget\n",
    "                if(tr_elements2[15].getchildren()[0].text_content().replace(u'\\xa0', u'').replace('+','') == 'Foreign:'):\n",
    "                    mov.append(tr_elements2[15].getchildren()[1].text_content().replace(u'\\xa0', u'')) #rest world\n",
    "                else:\n",
    "                    mov.append('no dist')\n",
    "            except: \n",
    "                pass #XD2\n",
    "        movies.append(mov)\n",
    "        mov = []"
   ]
  },
  {
   "cell_type": "code",
   "execution_count": 3,
   "metadata": {},
   "outputs": [],
   "source": [
    "headers =['#','name','distributor_full_name','release_date','genre','runtime','rating','budget','rest_world','studio','total_gross','theaters_total','opening','theaters_opening','open_date','close_date',]\n",
    "df = pd.DataFrame(movies,columns = headers)\n",
    "df.to_csv('movies.csv')"
   ]
  },
  {
   "cell_type": "code",
   "execution_count": 42,
   "metadata": {},
   "outputs": [],
   "source": [
    "df = pd.read_csv('movies.csv')"
   ]
  },
  {
   "cell_type": "code",
   "execution_count": 45,
   "metadata": {},
   "outputs": [
    {
     "data": {
      "text/plain": [
       "False"
      ]
     },
     "execution_count": 45,
     "metadata": {},
     "output_type": "execute_result"
    }
   ],
   "source": [
    "df['total_gross'].isnull().values.any()"
   ]
  },
  {
   "cell_type": "code",
   "execution_count": 43,
   "metadata": {},
   "outputs": [
    {
     "data": {
      "text/html": [
       "<div>\n",
       "<style scoped>\n",
       "    .dataframe tbody tr th:only-of-type {\n",
       "        vertical-align: middle;\n",
       "    }\n",
       "\n",
       "    .dataframe tbody tr th {\n",
       "        vertical-align: top;\n",
       "    }\n",
       "\n",
       "    .dataframe thead th {\n",
       "        text-align: right;\n",
       "    }\n",
       "</style>\n",
       "<table border=\"1\" class=\"dataframe\">\n",
       "  <thead>\n",
       "    <tr style=\"text-align: right;\">\n",
       "      <th></th>\n",
       "      <th>Unnamed: 0</th>\n",
       "      <th>#</th>\n",
       "      <th>name</th>\n",
       "      <th>distributor_full_name</th>\n",
       "      <th>release_date</th>\n",
       "      <th>genre</th>\n",
       "      <th>runtime</th>\n",
       "      <th>rating</th>\n",
       "      <th>budget</th>\n",
       "      <th>rest_world</th>\n",
       "      <th>studio</th>\n",
       "      <th>total_gross</th>\n",
       "      <th>theaters_total</th>\n",
       "      <th>opening</th>\n",
       "      <th>theaters_opening</th>\n",
       "      <th>open_date</th>\n",
       "      <th>close_date</th>\n",
       "    </tr>\n",
       "  </thead>\n",
       "  <tbody>\n",
       "    <tr>\n",
       "      <th>0</th>\n",
       "      <td>0</td>\n",
       "      <td>1</td>\n",
       "      <td>Black Panther</td>\n",
       "      <td>Buena Vista</td>\n",
       "      <td>February 16, 2018</td>\n",
       "      <td>Action / Adventure</td>\n",
       "      <td>2 hrs. 20 min.</td>\n",
       "      <td>PG-13</td>\n",
       "      <td>NaN</td>\n",
       "      <td>$646,853,595</td>\n",
       "      <td>BV</td>\n",
       "      <td>700059566.0</td>\n",
       "      <td>4,084</td>\n",
       "      <td>202003951.0</td>\n",
       "      <td>4,020</td>\n",
       "      <td>2/16</td>\n",
       "      <td>8/9</td>\n",
       "    </tr>\n",
       "    <tr>\n",
       "      <th>1</th>\n",
       "      <td>1</td>\n",
       "      <td>2</td>\n",
       "      <td>Avengers: Infinity War</td>\n",
       "      <td>Buena Vista</td>\n",
       "      <td>April 27, 2018</td>\n",
       "      <td>Action / Adventure</td>\n",
       "      <td>2 hrs. 36 min.</td>\n",
       "      <td>PG-13</td>\n",
       "      <td>NaN</td>\n",
       "      <td>$1,369,544,272</td>\n",
       "      <td>BV</td>\n",
       "      <td>678815482.0</td>\n",
       "      <td>4,474</td>\n",
       "      <td>257698183.0</td>\n",
       "      <td>4,474</td>\n",
       "      <td>4/27</td>\n",
       "      <td>9/13</td>\n",
       "    </tr>\n",
       "    <tr>\n",
       "      <th>2</th>\n",
       "      <td>2</td>\n",
       "      <td>3</td>\n",
       "      <td>Incredibles 2</td>\n",
       "      <td>Buena Vista</td>\n",
       "      <td>June 15, 2018</td>\n",
       "      <td>Animation</td>\n",
       "      <td>1 hrs. 58 min.</td>\n",
       "      <td>PG</td>\n",
       "      <td>NaN</td>\n",
       "      <td>$634,221,293</td>\n",
       "      <td>BV</td>\n",
       "      <td>608581744.0</td>\n",
       "      <td>4,410</td>\n",
       "      <td>182687905.0</td>\n",
       "      <td>4,410</td>\n",
       "      <td>6/15</td>\n",
       "      <td>12/13</td>\n",
       "    </tr>\n",
       "    <tr>\n",
       "      <th>3</th>\n",
       "      <td>3</td>\n",
       "      <td>4</td>\n",
       "      <td>Jurassic World: Fallen Kingdom</td>\n",
       "      <td>Universal</td>\n",
       "      <td>June 22, 2018</td>\n",
       "      <td>Action / Adventure</td>\n",
       "      <td>2 hrs. 8 min.</td>\n",
       "      <td>PG-13</td>\n",
       "      <td>$170 million</td>\n",
       "      <td>$891,764,701</td>\n",
       "      <td>Uni.</td>\n",
       "      <td>417719760.0</td>\n",
       "      <td>4,485</td>\n",
       "      <td>148024610.0</td>\n",
       "      <td>4,475</td>\n",
       "      <td>6/22</td>\n",
       "      <td>10/4</td>\n",
       "    </tr>\n",
       "    <tr>\n",
       "      <th>4</th>\n",
       "      <td>4</td>\n",
       "      <td>5</td>\n",
       "      <td>Aquaman</td>\n",
       "      <td>Warner Bros.</td>\n",
       "      <td>December 21, 2018</td>\n",
       "      <td>Action / Adventure</td>\n",
       "      <td>2 hrs. 19 min.</td>\n",
       "      <td>PG-13</td>\n",
       "      <td>NaN</td>\n",
       "      <td>$809,600,000</td>\n",
       "      <td>WB</td>\n",
       "      <td>334089785.0</td>\n",
       "      <td>4,184</td>\n",
       "      <td>67873522.0</td>\n",
       "      <td>4,125</td>\n",
       "      <td>12/21</td>\n",
       "      <td>-</td>\n",
       "    </tr>\n",
       "  </tbody>\n",
       "</table>\n",
       "</div>"
      ],
      "text/plain": [
       "   Unnamed: 0  #                            name distributor_full_name  \\\n",
       "0           0  1                   Black Panther           Buena Vista   \n",
       "1           1  2          Avengers: Infinity War           Buena Vista   \n",
       "2           2  3                   Incredibles 2           Buena Vista   \n",
       "3           3  4  Jurassic World: Fallen Kingdom             Universal   \n",
       "4           4  5                         Aquaman          Warner Bros.   \n",
       "\n",
       "        release_date               genre         runtime rating        budget  \\\n",
       "0  February 16, 2018  Action / Adventure  2 hrs. 20 min.  PG-13           NaN   \n",
       "1     April 27, 2018  Action / Adventure  2 hrs. 36 min.  PG-13           NaN   \n",
       "2      June 15, 2018           Animation  1 hrs. 58 min.     PG           NaN   \n",
       "3      June 22, 2018  Action / Adventure   2 hrs. 8 min.  PG-13  $170 million   \n",
       "4  December 21, 2018  Action / Adventure  2 hrs. 19 min.  PG-13           NaN   \n",
       "\n",
       "       rest_world studio  total_gross theaters_total      opening  \\\n",
       "0    $646,853,595     BV  700059566.0          4,084  202003951.0   \n",
       "1  $1,369,544,272     BV  678815482.0          4,474  257698183.0   \n",
       "2    $634,221,293     BV  608581744.0          4,410  182687905.0   \n",
       "3    $891,764,701   Uni.  417719760.0          4,485  148024610.0   \n",
       "4    $809,600,000     WB  334089785.0          4,184   67873522.0   \n",
       "\n",
       "  theaters_opening open_date close_date  \n",
       "0            4,020      2/16        8/9  \n",
       "1            4,474      4/27       9/13  \n",
       "2            4,410      6/15      12/13  \n",
       "3            4,475      6/22       10/4  \n",
       "4            4,125     12/21          -  "
      ]
     },
     "execution_count": 43,
     "metadata": {},
     "output_type": "execute_result"
    }
   ],
   "source": [
    "#usuwanie $ itp\n",
    "df['total_gross'].apply(lambda x: str(x))\n",
    "df['opening'].apply(lambda x: str(x))\n",
    "df['total_gross'] = df['total_gross'].replace('\\.','', regex=True).replace(',','', regex=True).str[1:].astype(float)\n",
    "df['opening'] = df['opening'].replace('\\.','', regex=True).replace(',','', regex=True).str[1:].astype(float)\n",
    "df['opening'].fillna(df['opening'].mean(),inplace=True)\n",
    "df.head()"
   ]
  },
  {
   "cell_type": "code",
   "execution_count": 46,
   "metadata": {},
   "outputs": [
    {
     "data": {
      "text/plain": [
       "((140, 1), (60, 1))"
      ]
     },
     "execution_count": 46,
     "metadata": {},
     "output_type": "execute_result"
    }
   ],
   "source": [
    "feats = ['opening']\n",
    "X = df[ feats ].values\n",
    "y = df['total_gross'].values\n",
    "\n",
    "X_train, X_test, y_train, y_test = train_test_split(X,y,test_size=0.3) \n",
    "\n",
    "X_train.shape, X_test.shape"
   ]
  },
  {
   "cell_type": "code",
   "execution_count": null,
   "metadata": {},
   "outputs": [],
   "source": [
    "### rekordy posortowane?\n",
    "### zmienne nie kategoryczne?\n",
    "### spróbować zwykłej regresji liniowej"
   ]
  },
  {
   "cell_type": "code",
   "execution_count": 49,
   "metadata": {},
   "outputs": [
    {
     "data": {
      "text/plain": [
       "0.0"
      ]
     },
     "execution_count": 49,
     "metadata": {},
     "output_type": "execute_result"
    }
   ],
   "source": [
    "# model = DecisionTreeClassifier(max_depth=10)\n",
    "# model.fit(X_train,y_train)\n",
    "# y_pred = model.predict(X_test)\n",
    "\n",
    "# accuracy_score (y_test, y_pred)"
   ]
  },
  {
   "cell_type": "code",
   "execution_count": 50,
   "metadata": {},
   "outputs": [
    {
     "data": {
      "text/plain": [
       "0.0"
      ]
     },
     "execution_count": 50,
     "metadata": {},
     "output_type": "execute_result"
    }
   ],
   "source": [
    "# model = RandomForestClassifier(max_depth=20,n_estimators=50)\n",
    "# model.fit(X_train,y_train)\n",
    "# y_pred = model.predict(X_test)\n",
    "\n",
    "# accuracy_score (y_test, y_pred)"
   ]
  },
  {
   "cell_type": "code",
   "execution_count": null,
   "metadata": {},
   "outputs": [],
   "source": []
  }
 ],
 "metadata": {
  "kernelspec": {
   "display_name": "Python 3",
   "language": "python",
   "name": "python3"
  },
  "language_info": {
   "codemirror_mode": {
    "name": "ipython",
    "version": 3
   },
   "file_extension": ".py",
   "mimetype": "text/x-python",
   "name": "python",
   "nbconvert_exporter": "python",
   "pygments_lexer": "ipython3",
   "version": "3.7.1"
  }
 },
 "nbformat": 4,
 "nbformat_minor": 2
}
