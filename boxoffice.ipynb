{
 "cells": [
  {
   "cell_type": "code",
   "execution_count": 2,
   "metadata": {},
   "outputs": [],
   "source": [
    "import requests\n",
    "import lxml.html as lh\n",
    "import pandas as pd"
   ]
  },
  {
   "cell_type": "code",
   "execution_count": 3,
   "metadata": {},
   "outputs": [],
   "source": [
    "movies =[]\n",
    "url=['https://www.boxofficemojo.com/yearly/chart/?page=1&view=releasedate&view2=domestic&yr=2018&p=.htm',\n",
    "     'https://www.boxofficemojo.com/yearly/chart/?page=2&view=releasedate&view2=domestic&yr=2018&p=.htm'\n",
    "    ]\n",
    "\n",
    "for i in range(2): \n",
    "    page = requests.get(url[i])\n",
    "    doc = lh.fromstring(page.content)\n",
    "    tr_elements = doc.xpath('//tr')\n",
    "    tr_elements = tr_elements[9:109]\n",
    "    mov = []\n",
    "    for xd in range(len(tr_elements)):\n",
    "        for a in tr_elements[xd]:\n",
    "            mov.append(a.text_content())\n",
    "            try:\n",
    "                url_mov = a.getchildren()[0].getchildren()[0].getchildren()[0].attrib['href']\n",
    "                page2 = requests.get('https://www.boxofficemojo.com'+url_mov)\n",
    "                doc2 = lh.fromstring(page2.content)\n",
    "                tr_elements2 = doc2.xpath('//tr')\n",
    "                mov.append(tr_elements2[7].getchildren()[0].getchildren()[0].text_content()) #distributor full name\n",
    "                mov.append(tr_elements2[7].getchildren()[1].getchildren()[0].text_content()) #release date\n",
    "                mov.append(tr_elements2[8].getchildren()[0].getchildren()[0].text_content()) # genre\n",
    "                mov.append(tr_elements2[8].getchildren()[1].getchildren()[0].text_content()) #runtime\n",
    "                mov.append(tr_elements2[9].getchildren()[0].getchildren()[0].text_content()) #rating\n",
    "                mov.append(tr_elements2[9].getchildren()[1].getchildren()[0].text_content()) #budget\n",
    "                if(tr_elements2[15].getchildren()[0].text_content().replace(u'\\xa0', u'').replace('+','') == 'Foreign:'):\n",
    "                    mov.append(tr_elements2[15].getchildren()[1].text_content().replace(u'\\xa0', u'')) #rest world\n",
    "                else:\n",
    "                    mov.append('no dist')\n",
    "            except: \n",
    "                pass #XD2\n",
    "        movies.append(mov)\n",
    "        mov = []"
   ]
  },
  {
   "cell_type": "code",
   "execution_count": 6,
   "metadata": {},
   "outputs": [],
   "source": [
    "headers =['#','name','distributor_full_name','release_date','genre','runtime','rating','budget','rest_world','studio','total_gross','theaters_total','opening','theaters_opening','open_date','close_date',]\n",
    "df = pd.DataFrame(movies,columns = headers)\n",
    "df.head()\n",
    "df.to_csv('movies.csv')"
   ]
  },
  {
   "cell_type": "code",
   "execution_count": null,
   "metadata": {},
   "outputs": [],
   "source": []
  },
  {
   "cell_type": "code",
   "execution_count": null,
   "metadata": {},
   "outputs": [],
   "source": []
  },
  {
   "cell_type": "code",
   "execution_count": null,
   "metadata": {},
   "outputs": [],
   "source": []
  },
  {
   "cell_type": "code",
   "execution_count": null,
   "metadata": {},
   "outputs": [],
   "source": []
  },
  {
   "cell_type": "code",
   "execution_count": null,
   "metadata": {},
   "outputs": [],
   "source": []
  },
  {
   "cell_type": "code",
   "execution_count": null,
   "metadata": {},
   "outputs": [],
   "source": []
  },
  {
   "cell_type": "code",
   "execution_count": null,
   "metadata": {},
   "outputs": [],
   "source": []
  }
 ],
 "metadata": {
  "kernelspec": {
   "display_name": "Python 3",
   "language": "python",
   "name": "python3"
  },
  "language_info": {
   "codemirror_mode": {
    "name": "ipython",
    "version": 3
   },
   "file_extension": ".py",
   "mimetype": "text/x-python",
   "name": "python",
   "nbconvert_exporter": "python",
   "pygments_lexer": "ipython3",
   "version": "3.7.1"
  }
 },
 "nbformat": 4,
 "nbformat_minor": 2
}
