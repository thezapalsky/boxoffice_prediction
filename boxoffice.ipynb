{
 "cells": [
  {
   "cell_type": "code",
   "execution_count": 1,
   "metadata": {},
   "outputs": [],
   "source": [
    "import requests\n",
    "import lxml.html as lh\n",
    "import pandas as pd\n",
    "import numpy as np\n",
    "from sklearn.tree import DecisionTreeClassifier\n",
    "from sklearn.ensemble import RandomForestClassifier\n",
    "from sklearn.model_selection import train_test_split\n",
    "from sklearn.metrics import accuracy_score\n",
    "from sklearn.impute import SimpleImputer"
   ]
  },
  {
   "cell_type": "code",
   "execution_count": 15,
   "metadata": {},
   "outputs": [],
   "source": [
    "from sklearn import datasets, linear_model\n",
    "from sklearn.metrics import mean_squared_error, r2_score"
   ]
  },
  {
   "cell_type": "markdown",
   "metadata": {},
   "source": [
    "0. pozyskanie danych"
   ]
  },
  {
   "cell_type": "code",
   "execution_count": 2,
   "metadata": {},
   "outputs": [],
   "source": [
    "movies =[]\n",
    "url=['https://www.boxofficemojo.com/yearly/chart/?page=1&view=releasedate&view2=domestic&yr=2018&p=.htm',\n",
    "     'https://www.boxofficemojo.com/yearly/chart/?page=2&view=releasedate&view2=domestic&yr=2018&p=.htm'\n",
    "    ]\n",
    "\n",
    "for i in range(2): \n",
    "    page = requests.get(url[i])\n",
    "    doc = lh.fromstring(page.content)\n",
    "    tr_elements = doc.xpath('//tr')\n",
    "    tr_elements = tr_elements[9:109]\n",
    "    mov = []\n",
    "    for xd in range(len(tr_elements)):\n",
    "        for a in tr_elements[xd]:      \n",
    "            try:\n",
    "                mov.append(int(a.text_content()))\n",
    "            except:\n",
    "                mov.append(a.text_content())\n",
    "                pass\n",
    "            try:\n",
    "                url_mov = a.getchildren()[0].getchildren()[0].getchildren()[0].attrib['href'] #XD\n",
    "                page2 = requests.get('https://www.boxofficemojo.com'+url_mov)\n",
    "                doc2 = lh.fromstring(page2.content)\n",
    "                tr_elements2 = doc2.xpath('//tr')\n",
    "                mov.append(tr_elements2[7].getchildren()[0].getchildren()[0].text_content()) #distributor full name\n",
    "                mov.append(tr_elements2[7].getchildren()[1].getchildren()[0].text_content()) #release date\n",
    "                mov.append(tr_elements2[8].getchildren()[0].getchildren()[0].text_content()) # genre\n",
    "                mov.append(tr_elements2[8].getchildren()[1].getchildren()[0].text_content()) #runtime\n",
    "                mov.append(tr_elements2[9].getchildren()[0].getchildren()[0].text_content()) #rating\n",
    "                mov.append(tr_elements2[9].getchildren()[1].getchildren()[0].text_content()) #budget\n",
    "                if(tr_elements2[15].getchildren()[0].text_content().replace(u'\\xa0', u'').replace('+','') == 'Foreign:'):\n",
    "                    mov.append(tr_elements2[15].getchildren()[1].text_content().replace(u'\\xa0', u'')) #rest world\n",
    "                else:\n",
    "                    mov.append('no dist')\n",
    "            except: \n",
    "                pass #XD2\n",
    "        movies.append(mov)\n",
    "        mov = []"
   ]
  },
  {
   "cell_type": "code",
   "execution_count": 3,
   "metadata": {},
   "outputs": [],
   "source": [
    "headers =['#','name','distributor_full_name','release_date','genre','runtime','rating','budget','rest_world','studio','total_gross','theaters_total','opening','theaters_opening','open_date','close_date',]\n",
    "df = pd.DataFrame(movies,columns = headers)\n",
    "df.to_csv('movies.csv')"
   ]
  },
  {
   "cell_type": "markdown",
   "metadata": {},
   "source": [
    "1. czyszczenie"
   ]
  },
  {
   "cell_type": "code",
   "execution_count": 2,
   "metadata": {},
   "outputs": [],
   "source": [
    "df = pd.read_csv('movies.csv')"
   ]
  },
  {
   "cell_type": "code",
   "execution_count": 3,
   "metadata": {},
   "outputs": [
    {
     "data": {
      "text/plain": [
       "False"
      ]
     },
     "execution_count": 3,
     "metadata": {},
     "output_type": "execute_result"
    }
   ],
   "source": [
    "df['total_gross'].isnull().values.any()"
   ]
  },
  {
   "cell_type": "code",
   "execution_count": 5,
   "metadata": {},
   "outputs": [],
   "source": [
    "#usuwanie $ itp\n",
    "df['total_gross'].apply(lambda x: str(x))\n",
    "df['opening'].apply(lambda x: str(x))\n",
    "df['total_gross'] = df['total_gross'].replace('\\.','', regex=True).replace(',','', regex=True).str[1:].astype(float)\n",
    "df['opening'] = df['opening'].replace('\\.','', regex=True).replace(',','', regex=True).str[1:].astype(float)\n",
    "df['opening'].fillna(df['opening'].mean(),inplace=True)\n",
    "df.head()"
   ]
  },
  {
   "cell_type": "code",
   "execution_count": 10,
   "metadata": {},
   "outputs": [
    {
     "data": {
      "text/html": [
       "<div>\n",
       "<style scoped>\n",
       "    .dataframe tbody tr th:only-of-type {\n",
       "        vertical-align: middle;\n",
       "    }\n",
       "\n",
       "    .dataframe tbody tr th {\n",
       "        vertical-align: top;\n",
       "    }\n",
       "\n",
       "    .dataframe thead th {\n",
       "        text-align: right;\n",
       "    }\n",
       "</style>\n",
       "<table border=\"1\" class=\"dataframe\">\n",
       "  <thead>\n",
       "    <tr style=\"text-align: right;\">\n",
       "      <th></th>\n",
       "      <th>Unnamed: 0</th>\n",
       "      <th>#</th>\n",
       "      <th>name</th>\n",
       "      <th>distributor_full_name</th>\n",
       "      <th>release_date</th>\n",
       "      <th>genre</th>\n",
       "      <th>runtime</th>\n",
       "      <th>rating</th>\n",
       "      <th>budget</th>\n",
       "      <th>rest_world</th>\n",
       "      <th>studio</th>\n",
       "      <th>total_gross</th>\n",
       "      <th>theaters_total</th>\n",
       "      <th>opening</th>\n",
       "      <th>theaters_opening</th>\n",
       "      <th>open_date</th>\n",
       "      <th>close_date</th>\n",
       "    </tr>\n",
       "  </thead>\n",
       "  <tbody>\n",
       "    <tr>\n",
       "      <th>84</th>\n",
       "      <td>84</td>\n",
       "      <td>85</td>\n",
       "      <td>Isle Of Dogs</td>\n",
       "      <td>Fox Searchlight</td>\n",
       "      <td>March 23, 2018</td>\n",
       "      <td>Animation</td>\n",
       "      <td>1 hrs. 41 min.</td>\n",
       "      <td>PG-13</td>\n",
       "      <td>NaN</td>\n",
       "      <td>$32,226,268</td>\n",
       "      <td>FoxS</td>\n",
       "      <td>32015231.0</td>\n",
       "      <td>1,947</td>\n",
       "      <td>1620294.0</td>\n",
       "      <td>27</td>\n",
       "      <td>3/23</td>\n",
       "      <td>8/30</td>\n",
       "    </tr>\n",
       "    <tr>\n",
       "      <th>192</th>\n",
       "      <td>192</td>\n",
       "      <td>193</td>\n",
       "      <td>Suspiria</td>\n",
       "      <td>Amazon Studios</td>\n",
       "      <td>October 26, 2018</td>\n",
       "      <td>Horror</td>\n",
       "      <td>2 hrs. 35 min.</td>\n",
       "      <td>R</td>\n",
       "      <td>NaN</td>\n",
       "      <td>$5,072,788</td>\n",
       "      <td>Amazon</td>\n",
       "      <td>2483472.0</td>\n",
       "      <td>311</td>\n",
       "      <td>184037.0</td>\n",
       "      <td>2</td>\n",
       "      <td>10/26</td>\n",
       "      <td>12/20</td>\n",
       "    </tr>\n",
       "    <tr>\n",
       "      <th>186</th>\n",
       "      <td>186</td>\n",
       "      <td>187</td>\n",
       "      <td>American Animals</td>\n",
       "      <td>The Orchard</td>\n",
       "      <td>June 1, 2018</td>\n",
       "      <td>Crime Drama</td>\n",
       "      <td>1 hrs. 57 min.</td>\n",
       "      <td>R</td>\n",
       "      <td>NaN</td>\n",
       "      <td>no dist</td>\n",
       "      <td>Orch.</td>\n",
       "      <td>2856954.0</td>\n",
       "      <td>339</td>\n",
       "      <td>134793.0</td>\n",
       "      <td>4</td>\n",
       "      <td>6/1</td>\n",
       "      <td>8/30</td>\n",
       "    </tr>\n",
       "    <tr>\n",
       "      <th>1</th>\n",
       "      <td>1</td>\n",
       "      <td>2</td>\n",
       "      <td>Avengers: Infinity War</td>\n",
       "      <td>Buena Vista</td>\n",
       "      <td>April 27, 2018</td>\n",
       "      <td>Action / Adventure</td>\n",
       "      <td>2 hrs. 36 min.</td>\n",
       "      <td>PG-13</td>\n",
       "      <td>NaN</td>\n",
       "      <td>$1,369,544,272</td>\n",
       "      <td>BV</td>\n",
       "      <td>678815482.0</td>\n",
       "      <td>4,474</td>\n",
       "      <td>257698183.0</td>\n",
       "      <td>4,474</td>\n",
       "      <td>4/27</td>\n",
       "      <td>9/13</td>\n",
       "    </tr>\n",
       "    <tr>\n",
       "      <th>98</th>\n",
       "      <td>98</td>\n",
       "      <td>99</td>\n",
       "      <td>Won't You Be My Neighbor?</td>\n",
       "      <td>Focus Features</td>\n",
       "      <td>June 8, 2018</td>\n",
       "      <td>Documentary</td>\n",
       "      <td>1 hrs. 34 min.</td>\n",
       "      <td>PG-13</td>\n",
       "      <td>NaN</td>\n",
       "      <td>no dist</td>\n",
       "      <td>Focus</td>\n",
       "      <td>22835787.0</td>\n",
       "      <td>893</td>\n",
       "      <td>475419.0</td>\n",
       "      <td>29</td>\n",
       "      <td>6/8</td>\n",
       "      <td>9/13</td>\n",
       "    </tr>\n",
       "  </tbody>\n",
       "</table>\n",
       "</div>"
      ],
      "text/plain": [
       "     Unnamed: 0    #                       name distributor_full_name  \\\n",
       "84           84   85               Isle Of Dogs       Fox Searchlight   \n",
       "192         192  193                   Suspiria        Amazon Studios   \n",
       "186         186  187           American Animals           The Orchard   \n",
       "1             1    2     Avengers: Infinity War           Buena Vista   \n",
       "98           98   99  Won't You Be My Neighbor?        Focus Features   \n",
       "\n",
       "         release_date               genre         runtime rating budget  \\\n",
       "84     March 23, 2018           Animation  1 hrs. 41 min.  PG-13    NaN   \n",
       "192  October 26, 2018              Horror  2 hrs. 35 min.      R    NaN   \n",
       "186      June 1, 2018         Crime Drama  1 hrs. 57 min.      R    NaN   \n",
       "1      April 27, 2018  Action / Adventure  2 hrs. 36 min.  PG-13    NaN   \n",
       "98       June 8, 2018         Documentary  1 hrs. 34 min.  PG-13    NaN   \n",
       "\n",
       "         rest_world  studio  total_gross theaters_total      opening  \\\n",
       "84      $32,226,268    FoxS   32015231.0          1,947    1620294.0   \n",
       "192      $5,072,788  Amazon    2483472.0            311     184037.0   \n",
       "186         no dist   Orch.    2856954.0            339     134793.0   \n",
       "1    $1,369,544,272      BV  678815482.0          4,474  257698183.0   \n",
       "98          no dist   Focus   22835787.0            893     475419.0   \n",
       "\n",
       "    theaters_opening open_date close_date  \n",
       "84                27      3/23       8/30  \n",
       "192                2     10/26      12/20  \n",
       "186                4       6/1       8/30  \n",
       "1              4,474      4/27       9/13  \n",
       "98                29       6/8       9/13  "
      ]
     },
     "execution_count": 10,
     "metadata": {},
     "output_type": "execute_result"
    }
   ],
   "source": [
    "df = df.sample(frac=1)\n",
    "df.head()\n",
    "# 'tasowanie' wierszy"
   ]
  },
  {
   "cell_type": "markdown",
   "metadata": {},
   "source": [
    "2. dzielenie danych na zbiory"
   ]
  },
  {
   "cell_type": "code",
   "execution_count": 11,
   "metadata": {},
   "outputs": [
    {
     "data": {
      "text/plain": [
       "((140, 1), (60, 1))"
      ]
     },
     "execution_count": 11,
     "metadata": {},
     "output_type": "execute_result"
    }
   ],
   "source": [
    "feats = ['opening']\n",
    "X = df[ feats ].values\n",
    "y = df['total_gross'].values\n",
    "\n",
    "X_train, X_test, y_train, y_test = train_test_split(X,y,test_size=0.3) \n",
    "\n",
    "X_train.shape, X_test.shape"
   ]
  },
  {
   "cell_type": "markdown",
   "metadata": {},
   "source": [
    "3. budowa modelu "
   ]
  },
  {
   "cell_type": "code",
   "execution_count": null,
   "metadata": {},
   "outputs": [],
   "source": [
    "### spróbować zwykłej regresji liniowej"
   ]
  },
  {
   "cell_type": "code",
   "execution_count": 18,
   "metadata": {},
   "outputs": [
    {
     "data": {
      "text/plain": [
       "0.0"
      ]
     },
     "execution_count": 18,
     "metadata": {},
     "output_type": "execute_result"
    }
   ],
   "source": [
    "modelR = linear_model.LinearRegression()\n",
    "modelR.fit(X_train,y_train)\n",
    "pred = modelR.predict(X_test)\n",
    "accuracy_score (y_test, y_pred)"
   ]
  },
  {
   "cell_type": "markdown",
   "metadata": {},
   "source": [
    ":("
   ]
  },
  {
   "cell_type": "code",
   "execution_count": null,
   "metadata": {},
   "outputs": [],
   "source": [
    "### zmienne nie kategoryczne? \n",
    "#sprawdzic to pozniej"
   ]
  },
  {
   "cell_type": "code",
   "execution_count": 13,
   "metadata": {},
   "outputs": [],
   "source": [
    "# model = DecisionTreeClassifier(max_depth=10)\n",
    "# model.fit(X_train,y_train)\n",
    "# y_pred = model.predict(X_test)\n",
    "\n",
    "# accuracy_score (y_test, y_pred)"
   ]
  },
  {
   "cell_type": "code",
   "execution_count": 14,
   "metadata": {},
   "outputs": [],
   "source": [
    "# model = RandomForestClassifier(max_depth=20,n_estimators=50)\n",
    "# model.fit(X_train,y_train)\n",
    "# y_pred = model.predict(X_test)\n",
    "\n",
    "# accuracy_score (y_test, y_pred)"
   ]
  }
 ],
 "metadata": {
  "kernelspec": {
   "display_name": "Python 3",
   "language": "python",
   "name": "python3"
  },
  "language_info": {
   "codemirror_mode": {
    "name": "ipython",
    "version": 3
   },
   "file_extension": ".py",
   "mimetype": "text/x-python",
   "name": "python",
   "nbconvert_exporter": "python",
   "pygments_lexer": "ipython3",
   "version": "3.7.1"
  }
 },
 "nbformat": 4,
 "nbformat_minor": 2
}
