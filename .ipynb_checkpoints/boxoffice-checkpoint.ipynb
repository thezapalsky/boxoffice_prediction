{
 "cells": [
  {
   "cell_type": "code",
   "execution_count": 135,
   "metadata": {},
   "outputs": [],
   "source": [
    "import requests\n",
    "import lxml.html as lh\n",
    "import pandas as pd"
   ]
  },
  {
   "cell_type": "code",
   "execution_count": 136,
   "metadata": {},
   "outputs": [],
   "source": [
    "movies =[]\n",
    "url=['https://www.boxofficemojo.com/yearly/chart/?page=1&view=releasedate&view2=domestic&yr=2018&p=.htm',\n",
    "     'https://www.boxofficemojo.com/yearly/chart/?page=2&view=releasedate&view2=domestic&yr=2018&p=.htm'\n",
    "    ]\n",
    "\n",
    "for i in range(2): \n",
    "    page = requests.get(url[i])\n",
    "    doc = lh.fromstring(page.content)\n",
    "    tr_elements = doc.xpath('//tr')\n",
    "    tr_elements = tr_elements[9:109]\n",
    "    mov = []\n",
    "    for xd in range(len(tr_elements)):\n",
    "        for a in tr_elements[xd]:\n",
    "            mov.append(a.text_content())\n",
    "            try:\n",
    "                mov.append(a.getchildren()[0].getchildren()[0].getchildren()[0].attrib['href']) #XD\n",
    "            except: \n",
    "                pass #XD2\n",
    "        movies.append(mov)\n",
    "        mov = []"
   ]
  },
  {
   "cell_type": "code",
   "execution_count": 140,
   "metadata": {},
   "outputs": [
    {
     "data": {
      "text/html": [
       "<div>\n",
       "<style scoped>\n",
       "    .dataframe tbody tr th:only-of-type {\n",
       "        vertical-align: middle;\n",
       "    }\n",
       "\n",
       "    .dataframe tbody tr th {\n",
       "        vertical-align: top;\n",
       "    }\n",
       "\n",
       "    .dataframe thead th {\n",
       "        text-align: right;\n",
       "    }\n",
       "</style>\n",
       "<table border=\"1\" class=\"dataframe\">\n",
       "  <thead>\n",
       "    <tr style=\"text-align: right;\">\n",
       "      <th></th>\n",
       "      <th>#</th>\n",
       "      <th>name</th>\n",
       "      <th>href</th>\n",
       "      <th>studio</th>\n",
       "      <th>total_gross</th>\n",
       "      <th>theaters_total</th>\n",
       "      <th>opening</th>\n",
       "      <th>theaters_opening</th>\n",
       "      <th>open_date</th>\n",
       "      <th>close_date</th>\n",
       "    </tr>\n",
       "  </thead>\n",
       "  <tbody>\n",
       "    <tr>\n",
       "      <th>0</th>\n",
       "      <td>1</td>\n",
       "      <td>Black Panther</td>\n",
       "      <td>/movies/?id=marvel2017b.htm</td>\n",
       "      <td>BV</td>\n",
       "      <td>$700,059,566</td>\n",
       "      <td>4,084</td>\n",
       "      <td>$202,003,951</td>\n",
       "      <td>4,020</td>\n",
       "      <td>2/16</td>\n",
       "      <td>8/9</td>\n",
       "    </tr>\n",
       "    <tr>\n",
       "      <th>1</th>\n",
       "      <td>2</td>\n",
       "      <td>Avengers: Infinity War</td>\n",
       "      <td>/movies/?id=marvel0518.htm</td>\n",
       "      <td>BV</td>\n",
       "      <td>$678,815,482</td>\n",
       "      <td>4,474</td>\n",
       "      <td>$257,698,183</td>\n",
       "      <td>4,474</td>\n",
       "      <td>4/27</td>\n",
       "      <td>9/13</td>\n",
       "    </tr>\n",
       "    <tr>\n",
       "      <th>2</th>\n",
       "      <td>3</td>\n",
       "      <td>Incredibles 2</td>\n",
       "      <td>/movies/?id=theincredibles2.htm</td>\n",
       "      <td>BV</td>\n",
       "      <td>$608,581,744</td>\n",
       "      <td>4,410</td>\n",
       "      <td>$182,687,905</td>\n",
       "      <td>4,410</td>\n",
       "      <td>6/15</td>\n",
       "      <td>12/13</td>\n",
       "    </tr>\n",
       "    <tr>\n",
       "      <th>3</th>\n",
       "      <td>4</td>\n",
       "      <td>Jurassic World: Fallen Kingdom</td>\n",
       "      <td>/movies/?id=jurassicworldsequel.htm</td>\n",
       "      <td>Uni.</td>\n",
       "      <td>$417,719,760</td>\n",
       "      <td>4,485</td>\n",
       "      <td>$148,024,610</td>\n",
       "      <td>4,475</td>\n",
       "      <td>6/22</td>\n",
       "      <td>10/4</td>\n",
       "    </tr>\n",
       "    <tr>\n",
       "      <th>4</th>\n",
       "      <td>5</td>\n",
       "      <td>Aquaman</td>\n",
       "      <td>/movies/?id=dcfilm0617.htm</td>\n",
       "      <td>WB</td>\n",
       "      <td>$334,059,737</td>\n",
       "      <td>4,184</td>\n",
       "      <td>$67,873,522</td>\n",
       "      <td>4,125</td>\n",
       "      <td>12/21</td>\n",
       "      <td>-</td>\n",
       "    </tr>\n",
       "  </tbody>\n",
       "</table>\n",
       "</div>"
      ],
      "text/plain": [
       "   #                            name                                 href  \\\n",
       "0  1                   Black Panther          /movies/?id=marvel2017b.htm   \n",
       "1  2          Avengers: Infinity War           /movies/?id=marvel0518.htm   \n",
       "2  3                   Incredibles 2      /movies/?id=theincredibles2.htm   \n",
       "3  4  Jurassic World: Fallen Kingdom  /movies/?id=jurassicworldsequel.htm   \n",
       "4  5                         Aquaman           /movies/?id=dcfilm0617.htm   \n",
       "\n",
       "  studio   total_gross theaters_total       opening theaters_opening  \\\n",
       "0     BV  $700,059,566          4,084  $202,003,951            4,020   \n",
       "1     BV  $678,815,482          4,474  $257,698,183            4,474   \n",
       "2     BV  $608,581,744          4,410  $182,687,905            4,410   \n",
       "3   Uni.  $417,719,760          4,485  $148,024,610            4,475   \n",
       "4     WB  $334,059,737          4,184   $67,873,522            4,125   \n",
       "\n",
       "  open_date close_date  \n",
       "0      2/16        8/9  \n",
       "1      4/27       9/13  \n",
       "2      6/15      12/13  \n",
       "3      6/22       10/4  \n",
       "4     12/21          -  "
      ]
     },
     "execution_count": 140,
     "metadata": {},
     "output_type": "execute_result"
    }
   ],
   "source": [
    "headers =['#','name','href','studio','total_gross','theaters_total','opening','theaters_opening','open_date','close_date',]\n",
    "df = pd.DataFrame(movies,columns = headers)\n",
    "df.head()"
   ]
  },
  {
   "cell_type": "code",
   "execution_count": 139,
   "metadata": {},
   "outputs": [
    {
     "data": {
      "text/plain": [
       "'/movies/?id=superfly.htm'"
      ]
     },
     "execution_count": 139,
     "metadata": {},
     "output_type": "execute_result"
    }
   ],
   "source": [
    "tr_elements[2].getchildren()[1].getchildren()[0].getchildren()[0].getchildren()[0].attrib['href'] #XD"
   ]
  }
 ],
 "metadata": {
  "kernelspec": {
   "display_name": "Python 3",
   "language": "python",
   "name": "python3"
  },
  "language_info": {
   "codemirror_mode": {
    "name": "ipython",
    "version": 3
   },
   "file_extension": ".py",
   "mimetype": "text/x-python",
   "name": "python",
   "nbconvert_exporter": "python",
   "pygments_lexer": "ipython3",
   "version": "3.7.1"
  }
 },
 "nbformat": 4,
 "nbformat_minor": 2
}
